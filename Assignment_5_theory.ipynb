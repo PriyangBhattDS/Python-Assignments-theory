{
 "cells": [
  {
   "cell_type": "code",
   "execution_count": 1,
   "id": "58756a1e",
   "metadata": {},
   "outputs": [],
   "source": [
    "# 1. What does an empty dictionary's code look like?\n",
    "# 2. What is the value of a dictionary value with the key 'foo' and the value 42?\n",
    "# 3. What is the most significant distinction between a dictionary and a list?\n",
    "# 4. What happens if you try to access spam['foo'] if spam is {'bar': 100}?\n",
    "# 5. If a dictionary is stored in spam, what is the difference between the expressions 'cat' in spam and 'cat' in spam.keys()?\n",
    "# 6. If a dictionary is stored in spam, what is the difference between the expressions 'cat' in spam and 'cat' in spam.values()?\n",
    "# 7. What is a shortcut for the following code?\n",
    "# if 'color' not in spam:\n",
    "# spam['color'] = 'black'\n",
    "# 8. How do you \"pretty print\" dictionary values using which module and function?"
   ]
  },
  {
   "cell_type": "markdown",
   "id": "8f14fbfc",
   "metadata": {},
   "source": [
    "##### 1. What does an empty dictionary's code look like?"
   ]
  },
  {
   "cell_type": "markdown",
   "id": "f04749b2",
   "metadata": {},
   "source": [
    "##### Answer 1 "
   ]
  },
  {
   "cell_type": "code",
   "execution_count": 2,
   "id": "0f8826d7",
   "metadata": {},
   "outputs": [],
   "source": [
    "d = {}"
   ]
  },
  {
   "cell_type": "code",
   "execution_count": 3,
   "id": "60937bce",
   "metadata": {},
   "outputs": [],
   "source": [
    "#or\n",
    "d =dict()"
   ]
  },
  {
   "cell_type": "markdown",
   "id": "0b4fb49b",
   "metadata": {},
   "source": [
    "##### 2. What is the value of a dictionary value with the key 'foo' and the value 42?"
   ]
  },
  {
   "cell_type": "markdown",
   "id": "bceeb42b",
   "metadata": {},
   "source": [
    "##### Asnwer 2"
   ]
  },
  {
   "cell_type": "code",
   "execution_count": 4,
   "id": "dd6b04f2",
   "metadata": {},
   "outputs": [],
   "source": [
    "d = {\"foo\":42}"
   ]
  },
  {
   "cell_type": "markdown",
   "id": "eae6c515",
   "metadata": {},
   "source": [
    "##### 3. What is the most significant distinction between a dictionary and a list?"
   ]
  },
  {
   "cell_type": "markdown",
   "id": "52f01975",
   "metadata": {},
   "source": [
    "##### Answer 3"
   ]
  },
  {
   "cell_type": "code",
   "execution_count": 7,
   "id": "f6508ef1",
   "metadata": {},
   "outputs": [],
   "source": [
    "# 1. Dictionary is indexed while dictionary is not indexed (we can access value by key in dictionary not by index)\n",
    "# 2. list is ordered collection while dictionary is unordered."
   ]
  },
  {
   "cell_type": "markdown",
   "id": "0129d0e2",
   "metadata": {},
   "source": [
    "##### 4. What happens if you try to access spam['foo'] if spam is {'bar': 100}?"
   ]
  },
  {
   "cell_type": "markdown",
   "id": "728bc850",
   "metadata": {},
   "source": [
    "##### Answer 4"
   ]
  },
  {
   "cell_type": "code",
   "execution_count": 5,
   "id": "28a151d5",
   "metadata": {},
   "outputs": [],
   "source": [
    "# It will generate keyerror\n",
    "# Example"
   ]
  },
  {
   "cell_type": "code",
   "execution_count": 6,
   "id": "4d21dd29",
   "metadata": {},
   "outputs": [
    {
     "ename": "KeyError",
     "evalue": "'foo'",
     "output_type": "error",
     "traceback": [
      "\u001b[1;31m---------------------------------------------------------------------------\u001b[0m",
      "\u001b[1;31mKeyError\u001b[0m                                  Traceback (most recent call last)",
      "Input \u001b[1;32mIn [6]\u001b[0m, in \u001b[0;36m<cell line: 2>\u001b[1;34m()\u001b[0m\n\u001b[0;32m      1\u001b[0m spam\u001b[38;5;241m=\u001b[39m {\u001b[38;5;124m'\u001b[39m\u001b[38;5;124mbar\u001b[39m\u001b[38;5;124m'\u001b[39m:\u001b[38;5;241m100\u001b[39m}\n\u001b[1;32m----> 2\u001b[0m \u001b[43mspam\u001b[49m\u001b[43m[\u001b[49m\u001b[38;5;124;43m'\u001b[39;49m\u001b[38;5;124;43mfoo\u001b[39;49m\u001b[38;5;124;43m'\u001b[39;49m\u001b[43m]\u001b[49m\n",
      "\u001b[1;31mKeyError\u001b[0m: 'foo'"
     ]
    }
   ],
   "source": [
    "spam= {'bar':100}\n",
    "spam['foo']"
   ]
  },
  {
   "cell_type": "markdown",
   "id": "18eb9806",
   "metadata": {},
   "source": [
    "##### 5. If a dictionary is stored in spam, what is the difference between the expressions 'cat' in spam and 'cat' in spam.keys()?"
   ]
  },
  {
   "cell_type": "markdown",
   "id": "fc4b22ec",
   "metadata": {},
   "source": [
    "##### Answer 5"
   ]
  },
  {
   "cell_type": "code",
   "execution_count": 9,
   "id": "28e3b939",
   "metadata": {},
   "outputs": [],
   "source": [
    "# no difference both are same\n",
    "# expression 'cat' in spam will check for the key the 'cat' in spam dictionary\n",
    "# and 'cat' in spam.keys() also check for the key 'cat' in spam dictionary"
   ]
  },
  {
   "cell_type": "markdown",
   "id": "bbefae0a",
   "metadata": {},
   "source": [
    "##### 6. If a dictionary is stored in spam, what is the difference between the expressions 'cat' in spam and 'cat' in spam.values()?"
   ]
  },
  {
   "cell_type": "markdown",
   "id": "887cadea",
   "metadata": {},
   "source": [
    "##### Answer 6"
   ]
  },
  {
   "cell_type": "markdown",
   "id": "2a814ed8",
   "metadata": {},
   "source": [
    "##### 7. What is a shortcut for the following code?\n",
    "##### if 'color' not in spam:\n",
    "##### spam['color'] = 'black'"
   ]
  },
  {
   "cell_type": "markdown",
   "id": "90d80c82",
   "metadata": {},
   "source": [
    "##### Answer 7"
   ]
  },
  {
   "cell_type": "code",
   "execution_count": null,
   "id": "c6dcf9a1",
   "metadata": {},
   "outputs": [],
   "source": [
    "# spam.setdefault('color','black')"
   ]
  },
  {
   "cell_type": "code",
   "execution_count": 11,
   "id": "15dab0d0",
   "metadata": {},
   "outputs": [
    {
     "data": {
      "text/plain": [
       "'black'"
      ]
     },
     "execution_count": 11,
     "metadata": {},
     "output_type": "execute_result"
    }
   ],
   "source": [
    "spam = {'cat':'red'}\n",
    "spam.setdefault('color','black')"
   ]
  },
  {
   "cell_type": "code",
   "execution_count": 12,
   "id": "22ab3210",
   "metadata": {},
   "outputs": [
    {
     "data": {
      "text/plain": [
       "{'cat': 'red', 'color': 'black'}"
      ]
     },
     "execution_count": 12,
     "metadata": {},
     "output_type": "execute_result"
    }
   ],
   "source": [
    "spam"
   ]
  },
  {
   "cell_type": "markdown",
   "id": "87c764db",
   "metadata": {},
   "source": [
    "##### 8. How do you \"pretty print\" dictionary values using which module and function?"
   ]
  },
  {
   "cell_type": "markdown",
   "id": "171fba1c",
   "metadata": {},
   "source": [
    "##### Asnwer 8"
   ]
  },
  {
   "cell_type": "code",
   "execution_count": null,
   "id": "78c89f47",
   "metadata": {},
   "outputs": [],
   "source": [
    "d = {\"priyang\":1,\"rahul\":2,\"anil\":3}"
   ]
  },
  {
   "cell_type": "code",
   "execution_count": null,
   "id": "6f162f1e",
   "metadata": {},
   "outputs": [],
   "source": [
    "import pprint"
   ]
  },
  {
   "cell_type": "code",
   "execution_count": null,
   "id": "a9256ddc",
   "metadata": {},
   "outputs": [],
   "source": [
    "pprint.pprint(d)"
   ]
  },
  {
   "cell_type": "code",
   "execution_count": null,
   "id": "d4353db4",
   "metadata": {},
   "outputs": [],
   "source": [
    "# so here we have to import pprint module and pprint function of this module"
   ]
  },
  {
   "cell_type": "code",
   "execution_count": null,
   "id": "70d9a220",
   "metadata": {},
   "outputs": [],
   "source": []
  }
 ],
 "metadata": {
  "kernelspec": {
   "display_name": "Python 3 (ipykernel)",
   "language": "python",
   "name": "python3"
  },
  "language_info": {
   "codemirror_mode": {
    "name": "ipython",
    "version": 3
   },
   "file_extension": ".py",
   "mimetype": "text/x-python",
   "name": "python",
   "nbconvert_exporter": "python",
   "pygments_lexer": "ipython3",
   "version": "3.9.12"
  }
 },
 "nbformat": 4,
 "nbformat_minor": 5
}
