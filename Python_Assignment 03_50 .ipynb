{
 "cells": [
  {
   "cell_type": "code",
   "execution_count": 47,
   "metadata": {},
   "outputs": [],
   "source": [
    "# 1.Write a Python Program to Find the Factorial of a Number?\n",
    "# 2.Write a Python Program to Display the multiplication Table?\n",
    "# 3.Write a Python Program to Print the Fibonacci sequence?\n",
    "# 4.Write a Python Program to Check Armstrong Number?\n",
    "# 5.Write a Python Program to Find Armstrong Number in an Interval?\n",
    "# 6.Write a Python Program to Find the Sum of Natural Numbers?"
   ]
  },
  {
   "cell_type": "markdown",
   "metadata": {},
   "source": [
    "##### Q.1.Write a Python Program to Find the Factorial of a Number?"
   ]
  },
  {
   "cell_type": "markdown",
   "metadata": {},
   "source": [
    "##### Answer 1"
   ]
  },
  {
   "cell_type": "code",
   "execution_count": 8,
   "metadata": {},
   "outputs": [
    {
     "name": "stdout",
     "output_type": "stream",
     "text": [
      "Enter Integer Number for you want to find factorial5\n",
      "Factorial of 5 is 120\n"
     ]
    }
   ],
   "source": [
    "num = int(input(\"Enter Integer Number for you want to find factorial\"))\n",
    "fact =1\n",
    "for i in range(1,num+1):\n",
    "    fact = fact * i\n",
    "print(f\"Factorial of {num} is {fact}\")"
   ]
  },
  {
   "cell_type": "markdown",
   "metadata": {},
   "source": [
    "##### Q. 2.Write a Python Program to Display the multiplication Table?"
   ]
  },
  {
   "cell_type": "markdown",
   "metadata": {},
   "source": [
    "##### Answer 2"
   ]
  },
  {
   "cell_type": "code",
   "execution_count": 15,
   "metadata": {},
   "outputs": [
    {
     "name": "stdout",
     "output_type": "stream",
     "text": [
      "Enter number for that you want to display multiplcation table8\n",
      "----------------------\n",
      "1 X 8 = 8\n",
      "----------------------\n",
      "2 X 8 = 16\n",
      "----------------------\n",
      "3 X 8 = 24\n",
      "----------------------\n",
      "4 X 8 = 32\n",
      "----------------------\n",
      "5 X 8 = 40\n",
      "----------------------\n",
      "6 X 8 = 48\n",
      "----------------------\n",
      "7 X 8 = 56\n",
      "----------------------\n",
      "8 X 8 = 64\n",
      "----------------------\n",
      "9 X 8 = 72\n",
      "----------------------\n",
      "10 X 8 = 80\n",
      "----------------------\n"
     ]
    }
   ],
   "source": [
    "num = int(input(\"Enter number for that you want to display multiplcation table\"))\n",
    "for i in range(1,11):\n",
    "    mul = i*num\n",
    "    print(\"----------------------\")\n",
    "    print(f\"{i} X {num} = {mul}\")\n",
    "print(\"----------------------\")"
   ]
  },
  {
   "cell_type": "markdown",
   "metadata": {},
   "source": [
    "##### Q. 3. Write a Python Program to Print the Fibonacci sequence?"
   ]
  },
  {
   "cell_type": "markdown",
   "metadata": {},
   "source": [
    "##### Answer 3"
   ]
  },
  {
   "cell_type": "code",
   "execution_count": 16,
   "metadata": {},
   "outputs": [],
   "source": [
    " # 1 1 2 3 5 8 13"
   ]
  },
  {
   "cell_type": "code",
   "execution_count": 26,
   "metadata": {},
   "outputs": [
    {
     "name": "stdout",
     "output_type": "stream",
     "text": [
      "Enter a number to print numbers in fibonacci sequence:10\n",
      "0\n",
      "1\n",
      "1\n",
      "2\n",
      "3\n",
      "5\n",
      "8\n",
      "13\n",
      "21\n",
      "34\n"
     ]
    }
   ],
   "source": [
    "num = int(input(\"Enter a number to print numbers in fibonacci sequence:\"))\n",
    "a1=0\n",
    "a2=1\n",
    "print(a1)\n",
    "print(a2)\n",
    "for i in range(1,num-1):\n",
    "    a3 = a1+ a2\n",
    "    print(a3)\n",
    "    a1=a2\n",
    "    a2=a3"
   ]
  },
  {
   "cell_type": "markdown",
   "metadata": {},
   "source": [
    "##### Q. 4.Write a Python Program to Check Armstrong Number?"
   ]
  },
  {
   "cell_type": "markdown",
   "metadata": {},
   "source": [
    "##### Answer 4"
   ]
  },
  {
   "cell_type": "code",
   "execution_count": 27,
   "metadata": {},
   "outputs": [],
   "source": [
    "# 153 is an armstrong number 1^3 + 5^3 + 3^3 = 153"
   ]
  },
  {
   "cell_type": "code",
   "execution_count": 46,
   "metadata": {},
   "outputs": [
    {
     "name": "stdout",
     "output_type": "stream",
     "text": [
      "Enter a number to check for an armstrong number407\n",
      "407\n",
      "Number is an Armstrong Number\n"
     ]
    }
   ],
   "source": [
    "num=int(input(\"Enter a number to check for an armstrong number\"))\n",
    "store1 = num\n",
    "sum1=0\n",
    "while(num>0):\n",
    "    temp=int(num%10)\n",
    "    sum1=sum1 + (temp*temp*temp)\n",
    "    num=int(num)/10\n",
    "print(sum1)\n",
    "if store1 == sum1:\n",
    "    print(\"Number is an Armstrong Number\")\n",
    "else:\n",
    "    print(\"Number is not an Armstrong Number\")"
   ]
  },
  {
   "cell_type": "markdown",
   "metadata": {},
   "source": [
    "##### 6 Write a Python Program to Find the Sum of Natural Numbers?"
   ]
  },
  {
   "cell_type": "markdown",
   "metadata": {},
   "source": [
    "##### Answer 6"
   ]
  },
  {
   "cell_type": "code",
   "execution_count": 52,
   "metadata": {},
   "outputs": [
    {
     "name": "stdout",
     "output_type": "stream",
     "text": [
      "Enter a number10\n",
      "Sum of Natural Number 11 is 55\n"
     ]
    }
   ],
   "source": [
    "num = int(input(\"Enter a number\"))\n",
    "sum1=0\n",
    "for i in range(0,num+1):\n",
    "    sum1=sum1 + i\n",
    "    \n",
    "print(f\"Sum of Natural Number {num+1} is {sum1}\")"
   ]
  },
  {
   "cell_type": "code",
   "execution_count": null,
   "metadata": {},
   "outputs": [],
   "source": []
  }
 ],
 "metadata": {
  "kernelspec": {
   "display_name": "Python 3",
   "language": "python",
   "name": "python3"
  },
  "language_info": {
   "codemirror_mode": {
    "name": "ipython",
    "version": 3
   },
   "file_extension": ".py",
   "mimetype": "text/x-python",
   "name": "python",
   "nbconvert_exporter": "python",
   "pygments_lexer": "ipython3",
   "version": "3.7.9"
  }
 },
 "nbformat": 4,
 "nbformat_minor": 4
}
