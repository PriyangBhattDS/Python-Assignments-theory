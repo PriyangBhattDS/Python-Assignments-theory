{
 "cells": [
  {
   "cell_type": "code",
   "execution_count": 1,
   "id": "b68da18e",
   "metadata": {},
   "outputs": [],
   "source": [
    "# 1) What is the difference between enclosing a list comprehension in square brackets and parentheses?\n",
    "# 2) What is the relationship between generators and iterators?\n",
    "# 3) What are the signs that a function is a generator function?\n",
    "# 4) What is the purpose of a yield statement?\n",
    "# 5) What is the relationship between map calls and list comprehensions? Make a comparison and contrast between the two."
   ]
  },
  {
   "cell_type": "code",
   "execution_count": 1,
   "id": "c100edce",
   "metadata": {},
   "outputs": [],
   "source": [
    "# 1) What is the difference between enclosing a list comprehension in square brackets and parentheses?"
   ]
  },
  {
   "cell_type": "markdown",
   "id": "a3106b92",
   "metadata": {},
   "source": [
    "##### Answer 1"
   ]
  },
  {
   "cell_type": "code",
   "execution_count": 6,
   "id": "fa12b1f6",
   "metadata": {},
   "outputs": [
    {
     "data": {
      "text/plain": [
       "[1, 2, 3, 4, 5, 6, 7, 8, 9, 10]"
      ]
     },
     "execution_count": 6,
     "metadata": {},
     "output_type": "execute_result"
    }
   ],
   "source": [
    "[i for i in range(1,11)]\n",
    "# Square brackets specify list comprehension"
   ]
  },
  {
   "cell_type": "code",
   "execution_count": 7,
   "id": "f41e39cf",
   "metadata": {},
   "outputs": [
    {
     "data": {
      "text/plain": [
       "<generator object <genexpr> at 0x000001DAA1B854A0>"
      ]
     },
     "execution_count": 7,
     "metadata": {},
     "output_type": "execute_result"
    }
   ],
   "source": [
    "(i for i in range(1,11))\n",
    "# Tuple Comprehension : create generator object"
   ]
  },
  {
   "cell_type": "code",
   "execution_count": 8,
   "id": "46a3c2df",
   "metadata": {},
   "outputs": [],
   "source": [
    "# 2) What is the relationship between generators and iterators?"
   ]
  },
  {
   "cell_type": "markdown",
   "id": "d8baeb0e",
   "metadata": {},
   "source": [
    "#####  Answer 2 "
   ]
  },
  {
   "cell_type": "code",
   "execution_count": 9,
   "id": "b8c7c916",
   "metadata": {},
   "outputs": [],
   "source": [
    "#python generator function lends us a sequence of values to python iterate on. "
   ]
  },
  {
   "cell_type": "code",
   "execution_count": 25,
   "id": "ff11fba6",
   "metadata": {},
   "outputs": [],
   "source": [
    "def even(num):\n",
    "    for i in range(1,num):\n",
    "        yield i*i"
   ]
  },
  {
   "cell_type": "code",
   "execution_count": 29,
   "id": "e84b9240",
   "metadata": {},
   "outputs": [
    {
     "name": "stdout",
     "output_type": "stream",
     "text": [
      "1\n",
      "4\n",
      "9\n",
      "16\n",
      "25\n",
      "36\n",
      "49\n",
      "64\n",
      "81\n"
     ]
    }
   ],
   "source": [
    "x = even(10)\n",
    "for num in x:\n",
    "    print(num)"
   ]
  },
  {
   "cell_type": "code",
   "execution_count": 30,
   "id": "26c51431",
   "metadata": {},
   "outputs": [],
   "source": [
    "#A Python iterator returns us an iterator object- one value at a time."
   ]
  },
  {
   "cell_type": "code",
   "execution_count": 31,
   "id": "17ac90d2",
   "metadata": {},
   "outputs": [],
   "source": [
    "def even(num):\n",
    "    for i in range(1,num):\n",
    "        yield i*i"
   ]
  },
  {
   "cell_type": "code",
   "execution_count": 32,
   "id": "21d1ea51",
   "metadata": {},
   "outputs": [],
   "source": [
    "x = even(10)"
   ]
  },
  {
   "cell_type": "code",
   "execution_count": 33,
   "id": "c069c305",
   "metadata": {},
   "outputs": [
    {
     "data": {
      "text/plain": [
       "1"
      ]
     },
     "execution_count": 33,
     "metadata": {},
     "output_type": "execute_result"
    }
   ],
   "source": [
    "next(x)"
   ]
  },
  {
   "cell_type": "code",
   "execution_count": 34,
   "id": "973cb8f8",
   "metadata": {},
   "outputs": [
    {
     "data": {
      "text/plain": [
       "4"
      ]
     },
     "execution_count": 34,
     "metadata": {},
     "output_type": "execute_result"
    }
   ],
   "source": [
    "next(x)"
   ]
  },
  {
   "cell_type": "code",
   "execution_count": 35,
   "id": "28edeec5",
   "metadata": {},
   "outputs": [],
   "source": [
    "# 3) What are the signs that a function is a generator function?"
   ]
  },
  {
   "cell_type": "markdown",
   "id": "21e84a0c",
   "metadata": {},
   "source": [
    "##### Answer 3"
   ]
  },
  {
   "cell_type": "code",
   "execution_count": 40,
   "id": "8d31318a",
   "metadata": {},
   "outputs": [],
   "source": [
    "# Normal function has return statement \n",
    "# while generator has more than one yield statements (generator object)"
   ]
  },
  {
   "cell_type": "code",
   "execution_count": 41,
   "id": "9ca1b9b2",
   "metadata": {},
   "outputs": [],
   "source": [
    "# 4) What is the purpose of a yield statement?"
   ]
  },
  {
   "cell_type": "markdown",
   "id": "69486b7a",
   "metadata": {},
   "source": [
    "##### Answer 4"
   ]
  },
  {
   "cell_type": "code",
   "execution_count": 42,
   "id": "eaa8372b",
   "metadata": {},
   "outputs": [],
   "source": [
    "# The yield statement suspends a function’s execution and \n",
    "# sends a value back to the caller, but retains enough state to enable the function \n",
    "# to resume where it left off. When the function resumes, \n",
    "# it continues execution immediately after the last yield run. \n",
    "# This allows its code to produce a series of values over time, \n",
    "# rather than computing them at once and sending them back like a list."
   ]
  },
  {
   "cell_type": "code",
   "execution_count": 43,
   "id": "9451be57",
   "metadata": {},
   "outputs": [],
   "source": [
    "#  5) What is the relationship between map calls and list comprehensions? \n",
    "#     Make a comparison and contrast between the two."
   ]
  },
  {
   "cell_type": "markdown",
   "id": "c0f300da",
   "metadata": {},
   "source": [
    "##### Answer 5"
   ]
  },
  {
   "cell_type": "code",
   "execution_count": 44,
   "id": "611ed394",
   "metadata": {},
   "outputs": [],
   "source": [
    "def sum1(num):\n",
    "    return num + 10"
   ]
  },
  {
   "cell_type": "code",
   "execution_count": 45,
   "id": "3db34865",
   "metadata": {},
   "outputs": [],
   "source": [
    "list1 =[11,12,13,14,15]"
   ]
  },
  {
   "cell_type": "code",
   "execution_count": 47,
   "id": "d0c7b753",
   "metadata": {},
   "outputs": [
    {
     "data": {
      "text/plain": [
       "[21, 22, 23, 24, 25]"
      ]
     },
     "execution_count": 47,
     "metadata": {},
     "output_type": "execute_result"
    }
   ],
   "source": [
    "list(map(sum1,list1))"
   ]
  },
  {
   "cell_type": "code",
   "execution_count": 48,
   "id": "b7fb9718",
   "metadata": {},
   "outputs": [
    {
     "data": {
      "text/plain": [
       "[21, 22, 23, 24, 25]"
      ]
     },
     "execution_count": 48,
     "metadata": {},
     "output_type": "execute_result"
    }
   ],
   "source": [
    "[ num + 10 for num in list1]"
   ]
  },
  {
   "cell_type": "code",
   "execution_count": 49,
   "id": "7882c975",
   "metadata": {},
   "outputs": [],
   "source": [
    "# List comprehension allows filtering. In map, we have no such facility. "
   ]
  },
  {
   "cell_type": "code",
   "execution_count": 51,
   "id": "dddc7dbd",
   "metadata": {},
   "outputs": [],
   "source": [
    "# List comprehension are used when a list of results is required as \n",
    "# map only returns a map object and does not return any list."
   ]
  },
  {
   "cell_type": "code",
   "execution_count": null,
   "id": "eeac5402",
   "metadata": {},
   "outputs": [],
   "source": []
  }
 ],
 "metadata": {
  "kernelspec": {
   "display_name": "Python 3 (ipykernel)",
   "language": "python",
   "name": "python3"
  },
  "language_info": {
   "codemirror_mode": {
    "name": "ipython",
    "version": 3
   },
   "file_extension": ".py",
   "mimetype": "text/x-python",
   "name": "python",
   "nbconvert_exporter": "python",
   "pygments_lexer": "ipython3",
   "version": "3.9.12"
  }
 },
 "nbformat": 4,
 "nbformat_minor": 5
}
