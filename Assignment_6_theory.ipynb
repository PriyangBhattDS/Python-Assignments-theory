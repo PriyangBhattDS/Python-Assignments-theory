{
 "cells": [
  {
   "cell_type": "code",
   "execution_count": 1,
   "id": "3dfbbb35",
   "metadata": {},
   "outputs": [],
   "source": [
    "# 1. What are escape characters, and how do you use them?\n",
    "# 2. What do the escape characters n and t stand for?\n",
    "# 3. What is the way to include backslash characters in a string?\n",
    "# 4. The string \"Howl's Moving Castle\" is a correct value. Why isn't the single quote character \n",
    "# in the word Howl's not escaped a problem?\n",
    "# 5. How do you write a string of newlines if you don't want to use the n character?\n",
    "# 6. What are the values of the given expressions?\n",
    "# 'Hello, world!'[1]\n",
    "# 'Hello, world!'[0:5]\n",
    "# 'Hello, world!'[:5]\n",
    "# 'Hello, world!'[3:]\n",
    "\n",
    "# 7. What are the values of the following expressions?\n",
    "# 'Hello'.upper()\n",
    "# 'Hello'.upper().isupper()\n",
    "# 'Hello'.upper().lower()\n",
    "# 8. What are the values of the following expressions?\n",
    "# 'Remember, remember, the fifth of July.'.split()\n",
    "# '-'.join('There can only one.'.split())\n",
    "# 9. What are the methods for right-justifying, left-justifying, and centering a string?\n",
    "# 10. What is the best way to remove whitespace characters from the start or end?"
   ]
  },
  {
   "cell_type": "markdown",
   "id": "eab862fe",
   "metadata": {},
   "source": [
    "##### 1. What are escape characters, and how do you use them?"
   ]
  },
  {
   "cell_type": "markdown",
   "id": "cca88e56",
   "metadata": {},
   "source": [
    "##### Asnwer 1"
   ]
  },
  {
   "cell_type": "code",
   "execution_count": 2,
   "id": "0d1fe109",
   "metadata": {},
   "outputs": [],
   "source": [
    "# In Python strings, the backslash \"\\\" is a special character, also called the \"escape\" character.\n",
    "# It is used in representing certain whitespace characters: \"\\t\" is a tab, \"\\n\" is a newline, and \"\\r\" is a carriage return\n",
    "\n",
    "# prefixing a special character with \"\\\" turns it into an ordinary character. \n",
    "# This is called \"escaping\". For example, \"\\'\" is the single quote character. \n",
    "# 'It\\'s Sunday' therefore is a valid string \n",
    "# and equivalent to \"It's Sunday\". Likewise, '\"' can be escaped: \"\\\"hello\\\"\" is a string begins \n",
    "# and ends with the literal double quote character. \n",
    "# Finally, \"\\\" can be used to escape itself: \"\\\\\" is the literal backslash character."
   ]
  },
  {
   "cell_type": "markdown",
   "id": "a326c646",
   "metadata": {},
   "source": [
    "##### 2. What do the escape characters n and t stand for?"
   ]
  },
  {
   "cell_type": "markdown",
   "id": "a7349c61",
   "metadata": {},
   "source": [
    "##### Asnwer 2"
   ]
  },
  {
   "cell_type": "code",
   "execution_count": 3,
   "id": "cd329580",
   "metadata": {},
   "outputs": [],
   "source": [
    "# \\n for new line and \\t for tab space"
   ]
  },
  {
   "cell_type": "markdown",
   "id": "5e7d9f35",
   "metadata": {},
   "source": [
    "##### 3. What is the way to include backslash characters in a string?"
   ]
  },
  {
   "cell_type": "markdown",
   "id": "cf91fcbc",
   "metadata": {},
   "source": [
    "##### Answer 3"
   ]
  },
  {
   "cell_type": "code",
   "execution_count": 4,
   "id": "67a402b5",
   "metadata": {},
   "outputs": [
    {
     "name": "stdout",
     "output_type": "stream",
     "text": [
      "This is \\ backslash \n"
     ]
    }
   ],
   "source": [
    "print(\"This is \\\\ backslash \")"
   ]
  },
  {
   "cell_type": "markdown",
   "id": "a0b0be88",
   "metadata": {},
   "source": [
    "##### 4. The string \"Howl's Moving Castle\" is a correct value. Why isn't the single quote character \n",
    "##### in the word Howl's not escaped a problem?"
   ]
  },
  {
   "cell_type": "code",
   "execution_count": 5,
   "id": "00ad014f",
   "metadata": {},
   "outputs": [
    {
     "name": "stdout",
     "output_type": "stream",
     "text": [
      "Howl's Moving Castle\n"
     ]
    }
   ],
   "source": [
    "print(\"Howl's Moving Castle\")"
   ]
  },
  {
   "cell_type": "code",
   "execution_count": 6,
   "id": "17bc6884",
   "metadata": {},
   "outputs": [],
   "source": [
    "# we have to use double quote to print this string beacause single quote\n",
    "# is available as a part of string"
   ]
  },
  {
   "cell_type": "markdown",
   "id": "01e3a33c",
   "metadata": {},
   "source": [
    "##### 5. How do you write a string of newlines if you don't want to use the n character?"
   ]
  },
  {
   "cell_type": "markdown",
   "id": "2c81cbd1",
   "metadata": {},
   "source": [
    "##### Answer 5"
   ]
  },
  {
   "cell_type": "code",
   "execution_count": 7,
   "id": "83d076ce",
   "metadata": {},
   "outputs": [
    {
     "name": "stdout",
     "output_type": "stream",
     "text": [
      "This is first line\n",
      "This is second line\n"
     ]
    }
   ],
   "source": [
    "print(\"This is first line\",end='\\n')\n",
    "print(\"This is second line\")\n",
    "\n",
    "# we can use end='\\n' which is by default in python"
   ]
  },
  {
   "cell_type": "markdown",
   "id": "44fead98",
   "metadata": {},
   "source": [
    "##### 6. What are the values of the given expressions?\n",
    "##### 'Hello, world!'[1]\n",
    "##### 'Hello, world!'[0:5]\n",
    "##### 'Hello, world!'[:5]\n",
    "##### 'Hello, world!'[3:]"
   ]
  },
  {
   "cell_type": "code",
   "execution_count": 8,
   "id": "df97b282",
   "metadata": {},
   "outputs": [
    {
     "data": {
      "text/plain": [
       "'e'"
      ]
     },
     "execution_count": 8,
     "metadata": {},
     "output_type": "execute_result"
    }
   ],
   "source": [
    " 'Hello, world!'[1]  # Print character at first location"
   ]
  },
  {
   "cell_type": "code",
   "execution_count": 9,
   "id": "af6b973b",
   "metadata": {},
   "outputs": [
    {
     "data": {
      "text/plain": [
       "'Hello'"
      ]
     },
     "execution_count": 9,
     "metadata": {},
     "output_type": "execute_result"
    }
   ],
   "source": [
    "'Hello, world!'[0:5] #  print character from 0 to 4 (because last is exclusive in python)"
   ]
  },
  {
   "cell_type": "code",
   "execution_count": 10,
   "id": "e712ddfd",
   "metadata": {},
   "outputs": [
    {
     "data": {
      "text/plain": [
       "'Hello'"
      ]
     },
     "execution_count": 10,
     "metadata": {},
     "output_type": "execute_result"
    }
   ],
   "source": [
    " 'Hello, world!'[:5] # this is same as above "
   ]
  },
  {
   "cell_type": "code",
   "execution_count": 11,
   "id": "3f2c7d53",
   "metadata": {},
   "outputs": [
    {
     "data": {
      "text/plain": [
       "'lo, world!'"
      ]
     },
     "execution_count": 11,
     "metadata": {},
     "output_type": "execute_result"
    }
   ],
   "source": [
    "'Hello, world!'[3:]  # it will print character from 3 to all"
   ]
  },
  {
   "cell_type": "markdown",
   "id": "7d1ccb48",
   "metadata": {},
   "source": [
    "##### 7. What are the values of the following expressions?\n",
    "##### 'Hello'.upper()\n",
    "##### 'Hello'.upper().isupper()\n",
    "##### 'Hello'.upper().lower()"
   ]
  },
  {
   "cell_type": "code",
   "execution_count": 12,
   "id": "5ba8891e",
   "metadata": {},
   "outputs": [
    {
     "data": {
      "text/plain": [
       "'HELLO'"
      ]
     },
     "execution_count": 12,
     "metadata": {},
     "output_type": "execute_result"
    }
   ],
   "source": [
    "'Hello'.upper()"
   ]
  },
  {
   "cell_type": "code",
   "execution_count": 13,
   "id": "ca8da805",
   "metadata": {},
   "outputs": [
    {
     "data": {
      "text/plain": [
       "True"
      ]
     },
     "execution_count": 13,
     "metadata": {},
     "output_type": "execute_result"
    }
   ],
   "source": [
    "'Hello'.upper().isupper()"
   ]
  },
  {
   "cell_type": "code",
   "execution_count": 14,
   "id": "1d8623e4",
   "metadata": {},
   "outputs": [
    {
     "data": {
      "text/plain": [
       "'hello'"
      ]
     },
     "execution_count": 14,
     "metadata": {},
     "output_type": "execute_result"
    }
   ],
   "source": [
    "'Hello'.upper().lower()"
   ]
  },
  {
   "cell_type": "markdown",
   "id": "4bb4e393",
   "metadata": {},
   "source": [
    "##### 8. What are the values of the following expressions?\n",
    "##### 'Remember, remember, the fifth of July.'.split()\n",
    "##### '-'.join('There can only one.'.split())"
   ]
  },
  {
   "cell_type": "code",
   "execution_count": 15,
   "id": "8c7f807b",
   "metadata": {},
   "outputs": [
    {
     "data": {
      "text/plain": [
       "['Remember,', 'remember,', 'the', 'fifth', 'of', 'July.']"
      ]
     },
     "execution_count": 15,
     "metadata": {},
     "output_type": "execute_result"
    }
   ],
   "source": [
    "'Remember, remember, the fifth of July.'.split()  # split create list of items by deafult seperated by commas"
   ]
  },
  {
   "cell_type": "code",
   "execution_count": 16,
   "id": "642c043e",
   "metadata": {},
   "outputs": [
    {
     "data": {
      "text/plain": [
       "'There-can-only-one.'"
      ]
     },
     "execution_count": 16,
     "metadata": {},
     "output_type": "execute_result"
    }
   ],
   "source": [
    "'-'.join('There can only one.'.split()) # Join string with -"
   ]
  },
  {
   "cell_type": "markdown",
   "id": "4221f32f",
   "metadata": {},
   "source": [
    "##### 9. What are the methods for right-justifying, left-justifying, and centering a string?"
   ]
  },
  {
   "cell_type": "code",
   "execution_count": 17,
   "id": "a7e9aa82",
   "metadata": {},
   "outputs": [],
   "source": [
    "# The following methods are used for justifying strings\n",
    "# ljust()\n",
    "# rjust()\n",
    "# center()"
   ]
  },
  {
   "cell_type": "code",
   "execution_count": 18,
   "id": "eca967dc",
   "metadata": {},
   "outputs": [
    {
     "data": {
      "text/plain": [
       "'priyang bhatt---------------------------'"
      ]
     },
     "execution_count": 18,
     "metadata": {},
     "output_type": "execute_result"
    }
   ],
   "source": [
    "str1 = \"priyang bhatt\"\n",
    "str1.ljust(40,'-')"
   ]
  },
  {
   "cell_type": "code",
   "execution_count": 19,
   "id": "571911bd",
   "metadata": {},
   "outputs": [
    {
     "data": {
      "text/plain": [
       "'---------------------------priyang bhatt'"
      ]
     },
     "execution_count": 19,
     "metadata": {},
     "output_type": "execute_result"
    }
   ],
   "source": [
    "str1 = \"priyang bhatt\"\n",
    "str1.rjust(40,'-')"
   ]
  },
  {
   "cell_type": "code",
   "execution_count": 20,
   "id": "68a20a9e",
   "metadata": {},
   "outputs": [
    {
     "data": {
      "text/plain": [
       "'-------------priyang bhatt--------------'"
      ]
     },
     "execution_count": 20,
     "metadata": {},
     "output_type": "execute_result"
    }
   ],
   "source": [
    "str1 = \"priyang bhatt\"\n",
    "str1.center(40,'-')"
   ]
  },
  {
   "cell_type": "markdown",
   "id": "189ef6f3",
   "metadata": {},
   "source": [
    "##### 10. What is the best way to remove whitespace characters from the start or end?"
   ]
  },
  {
   "cell_type": "markdown",
   "id": "43ab2997",
   "metadata": {},
   "source": [
    "##### Answer 10"
   ]
  },
  {
   "cell_type": "code",
   "execution_count": 21,
   "id": "6c196475",
   "metadata": {},
   "outputs": [],
   "source": [
    "# 1.lstrip() to remove left space from the string\n",
    "# 2.rstrip() to remove right space from the string\n",
    "# 3.strip() to remove left and right spance from the string"
   ]
  },
  {
   "cell_type": "code",
   "execution_count": 22,
   "id": "d7a75c01",
   "metadata": {},
   "outputs": [
    {
     "name": "stdout",
     "output_type": "stream",
     "text": [
      "priyang bhatt\n"
     ]
    }
   ],
   "source": [
    "str1 =\"     priyang bhatt\"\n",
    "print(str1.lstrip())"
   ]
  },
  {
   "cell_type": "code",
   "execution_count": 23,
   "id": "ebaf195a",
   "metadata": {},
   "outputs": [
    {
     "name": "stdout",
     "output_type": "stream",
     "text": [
      "priyang bhatt\n"
     ]
    }
   ],
   "source": [
    "str1 =\"priyang bhatt     \"\n",
    "print(str1.rstrip())"
   ]
  },
  {
   "cell_type": "code",
   "execution_count": 24,
   "id": "64cb5ac2",
   "metadata": {},
   "outputs": [
    {
     "name": "stdout",
     "output_type": "stream",
     "text": [
      "priyang bhatt\n"
     ]
    }
   ],
   "source": [
    "str1 =\"     priyang bhatt     \"\n",
    "print(str1.strip())"
   ]
  },
  {
   "cell_type": "code",
   "execution_count": null,
   "id": "db62764b",
   "metadata": {},
   "outputs": [],
   "source": []
  }
 ],
 "metadata": {
  "kernelspec": {
   "display_name": "Python 3 (ipykernel)",
   "language": "python",
   "name": "python3"
  },
  "language_info": {
   "codemirror_mode": {
    "name": "ipython",
    "version": 3
   },
   "file_extension": ".py",
   "mimetype": "text/x-python",
   "name": "python",
   "nbconvert_exporter": "python",
   "pygments_lexer": "ipython3",
   "version": "3.9.12"
  }
 },
 "nbformat": 4,
 "nbformat_minor": 5
}
