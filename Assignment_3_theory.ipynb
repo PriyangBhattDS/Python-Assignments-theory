{
 "cells": [
  {
   "cell_type": "code",
   "execution_count": 2,
   "id": "c0ca3935",
   "metadata": {},
   "outputs": [],
   "source": [
    "# 1. Why are functions advantageous to have in your programs?\n",
    "# 2. When does the code in a function run: when it's specified or when it's called?\n",
    "# 3. What statement creates a function?\n",
    "# 4. What is the difference between a function and a function call?\n",
    "# 5. How many global scopes are there in a Python program? How many local scopes?\n",
    "# 6. What happens to variables in a local scope when the function call returns?\n",
    "# 7. What is the concept of a return value? Is it possible to have a return value in an expression?\n",
    "# 8. If a function does not have a return statement, what is the return value of a call to that function?\n",
    "# 9. How do you make a function variable refer to the global variable?\n",
    "# 10. What is the data type of None?\n",
    "# 11. What does the sentence import areallyourpetsnamederic do?\n",
    "# 12. If you had a bacon() feature in a spam module, what would you call it after importing spam?\n",
    "# 13. What can you do to save a programme from crashing if it encounters an error?\n",
    "# 14. What is the purpose of the try clause? What is the purpose of the except clause?"
   ]
  },
  {
   "cell_type": "markdown",
   "id": "c12dd6f2",
   "metadata": {},
   "source": [
    "##### 1. Why are functions advantageous to have in your programs."
   ]
  },
  {
   "cell_type": "markdown",
   "id": "4e5b3f8b",
   "metadata": {},
   "source": [
    "##### Answer 1"
   ]
  },
  {
   "cell_type": "code",
   "execution_count": 3,
   "id": "2a26c996",
   "metadata": {},
   "outputs": [],
   "source": [
    "# if in our code if block of code, we have to again and again we can use function\n",
    "# it provides code reusability\n",
    "# it gives concept of modular programming so easy to handle the code (e.g if error occurs)"
   ]
  },
  {
   "cell_type": "markdown",
   "id": "f55fef19",
   "metadata": {},
   "source": [
    "##### 2. When does the code in a function run: when it's specified or when it's called?"
   ]
  },
  {
   "cell_type": "markdown",
   "id": "58395aaa",
   "metadata": {},
   "source": [
    "##### Answer 2"
   ]
  },
  {
   "cell_type": "code",
   "execution_count": 4,
   "id": "de99c9b4",
   "metadata": {},
   "outputs": [],
   "source": [
    "# Function runs when it's called"
   ]
  },
  {
   "cell_type": "markdown",
   "id": "a5c45636",
   "metadata": {},
   "source": [
    "##### 3. What statement creates a function?"
   ]
  },
  {
   "cell_type": "markdown",
   "id": "581aa5bf",
   "metadata": {},
   "source": [
    "##### Answer 3"
   ]
  },
  {
   "cell_type": "code",
   "execution_count": 5,
   "id": "afb00ecc",
   "metadata": {},
   "outputs": [],
   "source": [
    "# we can create function in python with def keywork front of function name"
   ]
  },
  {
   "cell_type": "code",
   "execution_count": 6,
   "id": "70a4e2d7",
   "metadata": {},
   "outputs": [],
   "source": [
    "# example\n",
    "def dosomething():\n",
    "    pass"
   ]
  },
  {
   "cell_type": "markdown",
   "id": "5007adfb",
   "metadata": {},
   "source": [
    "##### 4. What is the difference between a function and a function call?"
   ]
  },
  {
   "cell_type": "markdown",
   "id": "d69c4a4e",
   "metadata": {},
   "source": [
    "##### Asnwer 4"
   ]
  },
  {
   "cell_type": "code",
   "execution_count": 7,
   "id": "ca88b72a",
   "metadata": {},
   "outputs": [],
   "source": [
    "# Function : Function contains block of code that we want to excecute again and again\n",
    "# Function call : it calls the function and we can see the output \n",
    "# using function call multiple times it call function multiple times"
   ]
  },
  {
   "cell_type": "code",
   "execution_count": 8,
   "id": "4d9a3b12",
   "metadata": {},
   "outputs": [],
   "source": [
    "# example\n",
    "def fun():  # function : block of code\n",
    "    print(\"This code is part of function\")"
   ]
  },
  {
   "cell_type": "code",
   "execution_count": 9,
   "id": "5c6bcfc4",
   "metadata": {},
   "outputs": [
    {
     "name": "stdout",
     "output_type": "stream",
     "text": [
      "This code is part of function\n"
     ]
    }
   ],
   "source": [
    "fun()  # function call"
   ]
  },
  {
   "cell_type": "code",
   "execution_count": 10,
   "id": "54ef0066",
   "metadata": {},
   "outputs": [
    {
     "name": "stdout",
     "output_type": "stream",
     "text": [
      "This code is part of function\n"
     ]
    }
   ],
   "source": [
    "fun() # function call"
   ]
  },
  {
   "cell_type": "code",
   "execution_count": 11,
   "id": "8bb9b814",
   "metadata": {},
   "outputs": [
    {
     "name": "stdout",
     "output_type": "stream",
     "text": [
      "This code is part of function\n"
     ]
    }
   ],
   "source": [
    "fun() # function call"
   ]
  },
  {
   "cell_type": "markdown",
   "id": "8c8fa3eb",
   "metadata": {},
   "source": [
    "##### 5. How many global scopes are there in a Python program? How many local scopes?"
   ]
  },
  {
   "cell_type": "markdown",
   "id": "75f60f97",
   "metadata": {},
   "source": [
    "##### Answer 5"
   ]
  },
  {
   "cell_type": "code",
   "execution_count": 12,
   "id": "b5cda98c",
   "metadata": {},
   "outputs": [],
   "source": [
    "# there is only one global score. Local scope is created whenever function is called (Local score == number time you called the function)."
   ]
  },
  {
   "cell_type": "markdown",
   "id": "d1819b87",
   "metadata": {},
   "source": [
    "##### 6. What happens to variables in a local scope when the function call returns?"
   ]
  },
  {
   "cell_type": "markdown",
   "id": "95ced9fc",
   "metadata": {},
   "source": [
    "##### Answer 6"
   ]
  },
  {
   "cell_type": "code",
   "execution_count": 13,
   "id": "7978ab90",
   "metadata": {},
   "outputs": [],
   "source": [
    "# when function call is return local score is destroyed and all the variables are forgotton available inside local score.\n",
    "# These variables are not available outside of the function."
   ]
  },
  {
   "cell_type": "markdown",
   "id": "2216aa71",
   "metadata": {},
   "source": [
    " ###### 7. What is the concept of a return value? Is it possible to have a return value in an expression?"
   ]
  },
  {
   "cell_type": "markdown",
   "id": "6ebb2355",
   "metadata": {},
   "source": [
    "##### Answer 7"
   ]
  },
  {
   "cell_type": "code",
   "execution_count": 14,
   "id": "fc15c345",
   "metadata": {},
   "outputs": [],
   "source": [
    "# A return value is the value that a function call evaluates to. A return value can be used as part of an expression like -\n",
    "# any other value"
   ]
  },
  {
   "cell_type": "markdown",
   "id": "cd1e894e",
   "metadata": {},
   "source": [
    "##### 8. If a function does not have a return statement, what is the return value of a call to that function?"
   ]
  },
  {
   "cell_type": "markdown",
   "id": "f65f4934",
   "metadata": {},
   "source": [
    "##### Answer 8"
   ]
  },
  {
   "cell_type": "code",
   "execution_count": 15,
   "id": "cd652b14",
   "metadata": {},
   "outputs": [],
   "source": [
    "# if a function does not have a return statement it will return None."
   ]
  },
  {
   "cell_type": "markdown",
   "id": "f9fb3e16",
   "metadata": {},
   "source": [
    "##### 9. How do you make a function variable refer to the global variable?"
   ]
  },
  {
   "cell_type": "markdown",
   "id": "c9d2d526",
   "metadata": {},
   "source": [
    "##### Answer 9"
   ]
  },
  {
   "cell_type": "code",
   "execution_count": 5,
   "id": "02f4b643",
   "metadata": {},
   "outputs": [],
   "source": [
    "a=10 # Global Variable\n",
    "def fun1(): \n",
    "    a=20 # local variable\n",
    "    print(a)\n",
    "def fun2():\n",
    "    print(a)"
   ]
  },
  {
   "cell_type": "code",
   "execution_count": 6,
   "id": "56a58793",
   "metadata": {},
   "outputs": [
    {
     "name": "stdout",
     "output_type": "stream",
     "text": [
      "20\n",
      "10\n"
     ]
    }
   ],
   "source": [
    "fun1()\n",
    "fun2()"
   ]
  },
  {
   "cell_type": "code",
   "execution_count": 10,
   "id": "ec0a9f58",
   "metadata": {},
   "outputs": [],
   "source": [
    "# now if we want to make function variable (local variable) as global variable we can use global keyword\n",
    "# below example"
   ]
  },
  {
   "cell_type": "code",
   "execution_count": 11,
   "id": "6fe1b314",
   "metadata": {},
   "outputs": [],
   "source": [
    "a=10 \n",
    "def fun1():\n",
    "    global a\n",
    "    a=20 #  here we are changing the value of global variable \n",
    "    print(a)\n",
    "def fun2():\n",
    "    print(a)"
   ]
  },
  {
   "cell_type": "code",
   "execution_count": 12,
   "id": "dee14bc8",
   "metadata": {},
   "outputs": [
    {
     "name": "stdout",
     "output_type": "stream",
     "text": [
      "20\n",
      "20\n"
     ]
    }
   ],
   "source": [
    "fun1()\n",
    "fun2()"
   ]
  },
  {
   "cell_type": "markdown",
   "id": "8dcf66ef",
   "metadata": {},
   "source": [
    "##### 10. What is the data type of None?"
   ]
  },
  {
   "cell_type": "markdown",
   "id": "a8b7020d",
   "metadata": {},
   "source": [
    "##### Answer 10"
   ]
  },
  {
   "cell_type": "code",
   "execution_count": 1,
   "id": "4c3f8827",
   "metadata": {},
   "outputs": [],
   "source": [
    "# Data type of None is NoneType"
   ]
  },
  {
   "cell_type": "markdown",
   "id": "48b77f1e",
   "metadata": {},
   "source": [
    "##### 11. What does the sentence import areallyourpetsnamederic do?"
   ]
  },
  {
   "cell_type": "markdown",
   "id": "ff54eb83",
   "metadata": {},
   "source": [
    "##### Answer 11 "
   ]
  },
  {
   "cell_type": "code",
   "execution_count": 13,
   "id": "eca074ef",
   "metadata": {},
   "outputs": [],
   "source": [
    "# it will generater : ModuleNotFoundError: No module named 'areallyourpetsnamederic'"
   ]
  },
  {
   "cell_type": "code",
   "execution_count": 2,
   "id": "5b914ea2",
   "metadata": {},
   "outputs": [
    {
     "ename": "ModuleNotFoundError",
     "evalue": "No module named 'areallyourpetsnamederic'",
     "output_type": "error",
     "traceback": [
      "\u001b[1;31m---------------------------------------------------------------------------\u001b[0m",
      "\u001b[1;31mModuleNotFoundError\u001b[0m                       Traceback (most recent call last)",
      "Input \u001b[1;32mIn [2]\u001b[0m, in \u001b[0;36m<cell line: 1>\u001b[1;34m()\u001b[0m\n\u001b[1;32m----> 1\u001b[0m \u001b[38;5;28;01mimport\u001b[39;00m \u001b[38;5;21;01mareallyourpetsnamederic\u001b[39;00m\n",
      "\u001b[1;31mModuleNotFoundError\u001b[0m: No module named 'areallyourpetsnamederic'"
     ]
    }
   ],
   "source": [
    "import areallyourpetsnamederic"
   ]
  },
  {
   "cell_type": "markdown",
   "id": "2c3d5dbd",
   "metadata": {},
   "source": [
    "##### 12. If you had a bacon() feature in a spam module, what would you call it after importing spam?"
   ]
  },
  {
   "cell_type": "markdown",
   "id": "65ae5c39",
   "metadata": {},
   "source": [
    "##### Answer 12"
   ]
  },
  {
   "cell_type": "code",
   "execution_count": 4,
   "id": "59fdc773",
   "metadata": {},
   "outputs": [],
   "source": [
    "# import spam\n",
    "# spam.bacon()"
   ]
  },
  {
   "cell_type": "markdown",
   "id": "b042df36",
   "metadata": {},
   "source": [
    "##### 13. What can you do to save a programme from crashing if it encounters an error?"
   ]
  },
  {
   "cell_type": "markdown",
   "id": "dc5a2045",
   "metadata": {},
   "source": [
    "##### Answer 13"
   ]
  },
  {
   "cell_type": "code",
   "execution_count": 14,
   "id": "fdcc3aee",
   "metadata": {},
   "outputs": [],
   "source": [
    "# we can use exception handling to save a programme from crashing if it encounters an error.\n",
    "# we can write our code in try block so that our program shloud not creashed.\n",
    "# we can handle this error using except blobk"
   ]
  },
  {
   "cell_type": "markdown",
   "id": "78185e43",
   "metadata": {},
   "source": [
    "##### 14. What is the purpose of the try clause? What is the purpose of the except clause?"
   ]
  },
  {
   "cell_type": "markdown",
   "id": "75d11b4e",
   "metadata": {},
   "source": [
    "#####  Answer14"
   ]
  },
  {
   "cell_type": "code",
   "execution_count": null,
   "id": "b838af47",
   "metadata": {},
   "outputs": [],
   "source": [
    "# Try : The code that could potentially cause an error goes in the try clause.\n",
    "# except : The code that executes if an error happens goes in the except clause, like print statments about exceptions,\n",
    "# loggin statements."
   ]
  }
 ],
 "metadata": {
  "kernelspec": {
   "display_name": "Python 3 (ipykernel)",
   "language": "python",
   "name": "python3"
  },
  "language_info": {
   "codemirror_mode": {
    "name": "ipython",
    "version": 3
   },
   "file_extension": ".py",
   "mimetype": "text/x-python",
   "name": "python",
   "nbconvert_exporter": "python",
   "pygments_lexer": "ipython3",
   "version": "3.9.12"
  }
 },
 "nbformat": 4,
 "nbformat_minor": 5
}
